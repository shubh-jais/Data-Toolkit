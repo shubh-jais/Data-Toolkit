{
  "nbformat": 4,
  "nbformat_minor": 0,
  "metadata": {
    "colab": {
      "provenance": []
    },
    "kernelspec": {
      "name": "python3",
      "display_name": "Python 3"
    },
    "language_info": {
      "name": "python"
    }
  },
  "cells": [
    {
      "cell_type": "markdown",
      "source": [
        "#Data Toolkit Theory Questions"
      ],
      "metadata": {
        "id": "k3trsCqvaVjh"
      }
    },
    {
      "cell_type": "markdown",
      "source": [
        "1. What is NumPy, and why is it widely used in Python?\n",
        "   - NumPy (Numerical Python) is a powerful open-source Python library primarily used for scientific computing, data analysis, and numerical operations.\n",
        "     \n",
        "     It provides:\n",
        "      - N-dimensional array object (ndarray): much faster and more memory-efficient than Python lists.\n",
        "      - Mathematical functions: for linear algebra, Fourier transforms, random numbers, statistics, etc.\n",
        "      - Integration with other libraries: forms the backbone of libraries like Pandas, SciPy, scikit-learn, TensorFlow, and PyTorch.\n",
        "\n",
        "     Used widely because of following factors:\n",
        "      - Speed & Efficiency:\n",
        "        - NumPy arrays are implemented in C, making operations much faster than native Python lists.\n",
        "        - Example: element-wise addition, multiplication, matrix operations happen in compiled code, not Python loops.\n",
        "\n",
        "      - Vectorization:\n",
        "        - Operations apply on entire arrays at once (no need for explicit loops).\n",
        "        - Example:\n",
        "                \n",
        "                import numpy as np\n",
        "                arr = np.array([1, 2, 3, 4])\n",
        "                print(arr * 2)   # [2 4 6 8]\n",
        "\n",
        "      - Convenient Math Tools:\n",
        "        - Functions for mean, median, standard deviation, linear algebra, random numbers, etc.\n",
        "      \n",
        "      - Interoperability:\n",
        "        - Works seamlessly with Pandas (dataframes), Matplotlib (plots), SciPy (scientific computing), and ML libraries.\n",
        "\n",
        "      - Foundation for Data Science & ML:\n",
        "        - Almost every data-driven library in Python uses NumPy under the hood for data storage and computation.\n",
        "\n",
        "2. How does broadcasting work in NumPy?\n",
        "   - Broadcasting is a method that allows NumPy to perform operations on arrays of different shapes by aligning them in a compatible manner. For example, when a smaller array's dimensions do not match a larger array, NumPy implicitly expands the smaller array's dimensions to match the larger one without copying data. This optimization enhances performance and reduces memory usage.\n",
        "\n",
        "3. What is a Pandas DataFrame?\n",
        "   - A Pandas DataFrame is a 2D labeled data structure (like an Excel sheet) with rows and columns, where each column can hold different data types.\n",
        "     Used for storing, cleaning, and analyzing structured data efficiently.\n",
        "\n",
        "4. Explain the use of the groupby() method in Pandas.\n",
        "   - The groupby() method in Pandas is used for grouping data based on one or more keys. After grouping, various aggregation operations such as mean, sum, or count can be performed. For example, grouping sales data by region and then calculating the total sales per region is a common use case. It simplifies data summarization and analysis.\n",
        "\n",
        "5. Why is Seaborn preferred for statistical visualizations?\n",
        "   - Seaborn is a Python data visualization library built on top of Matplotlib.Seaborn is preferred for statistical visualizations because it:\n",
        "      - Is built on Matplotlib but provides simpler, high-level syntax.\n",
        "      - Has beautiful default styles for professional-looking plots.\n",
        "      - Integrates tightly with Pandas DataFrames.\n",
        "      - Offers specialized plots for statistics (heatmaps, pairplots, violin plots, distribution plots, regression plots).\n",
        "      - Automatically handles themes, colors, and legends, reducing boilerplate code.\n",
        "\n",
        "6. What are the differences between NumPy arrays and Python lists?\n",
        "   - A NumPy array differs from a Python list mainly in performance and usage. NumPy arrays are homogeneous, meaning all elements must be of the same data type, while Python lists can hold mixed data types. Arrays are stored in contiguous memory blocks, making them faster and more memory-efficient than lists, which store elements as separate objects.\n",
        "     \n",
        "     NumPy also supports vectorized operations (like element-wise addition, multiplication, and matrix operations) without explicit loops, whereas lists require manual iteration for such tasks. Additionally, arrays have a fixed size once created, while lists are dynamic and can grow or shrink. In short, NumPy arrays are optimized for numerical and scientific computing, while Python lists are better for general-purpose data storage.\n",
        "\n",
        "7. What is a heatmap, and when should it be used?\n",
        "   - A heatmap is a data visualization technique that uses color shading to represent the magnitude of values in a matrix or 2D dataset. Darker or brighter colors indicate higher or lower values, making patterns easy to spot.\n",
        "     \n",
        "     When to use it:\n",
        "      - To show correlations between variables (e.g., correlation matrix in data analysis).\n",
        "      - To visualize intensity, frequency, or density of values across a grid (e.g., website clicks, population density).\n",
        "      - To quickly identify patterns, outliers, or clusters in large datasets.\n",
        "\n",
        "8. What does the term “vectorized operation” mean in NumPy?\n",
        "   - Vectorized operations in NumPy refer to performing element-wise computations across entire arrays without explicit Python loops. For example, adding two arrays element by element can be written as c = a + b.\n",
        "   \n",
        "     This approach is faster because the computations are executed at the low-level C or Fortran level and avoid the overhead of Python loops.\n",
        "\n",
        "9. How does Matplotlib differ from Plotly?\n",
        "   - Matplotlib and Plotly are both Python libraries for data visualization, but they differ in style and use cases:\n",
        "     - Matplotlib → A foundational, static plotting library. Great for basic plots (line, bar, scatter, histograms) and for building plots that other libraries (like Seaborn) extend. It’s powerful but requires more code for customization, and its plots are usually static (though some interactivity is possible).\n",
        "\n",
        "     - Plotly → A modern, interactive plotting library. Plots are dynamic (zoom, hover tooltips, click events) and easily integrated into dashboards and web apps. It supports complex visuals like 3D plots, maps, and animations with less effort.\n",
        "\n",
        "10. What is the significance of hierarchical indexing in Pandas?\n",
        "    - Hierarchical indexing, or MultiIndexing, allows the use of multiple index levels in a Pandas DataFrame or Series. This feature is useful for working with high-dimensional data and enables operations like slicing and aggregation at different levels. For example, sales data can be indexed by region and year to easily analyze trends over time.\n",
        "\n",
        "11. What is the role of Seaborn's pairplot() function?\n",
        "    - Seaborn's pairplot() function is used to visualize relationships between multiple variables in a dataset.\n",
        "\n",
        "      It's Role:\n",
        "       - Creates a grid of plots showing pairwise relationships between numerical features.\n",
        "       - On the diagonal → shows distribution (histogram/kde) of each variable.\n",
        "       - Off-diagonal → shows scatterplots (or other relationship plots) between pairs of variables.\n",
        "       - Can also color points by a categorical variable using the hue parameter.\n",
        "\n",
        "      Example:\n",
        "            \n",
        "            import seaborn as sns\n",
        "            df = sns.load_dataset(\"iris\")\n",
        "            sns.pairplot(df, hue=\"species\")\n",
        "\n",
        "      This will plot all pairwise comparisons of the Iris dataset features, colored by species.\n",
        "\n",
        "12. What is the purpose of the describe() function in Pandas?\n",
        "    - The describe() function in Pandas is used to generate summary statistics of a DataFrame or Series.\n",
        "      \n",
        "      It's purpose:\n",
        "       - Provides a quick overview of the data's distribution and spread.\n",
        "       - For numerical columns → shows count, mean, std, min, quartiles (25%, 50%, 75%), and max.\n",
        "       - For categorical columns (if include='object') → shows count, unique, top, and frequency.\n",
        "\n",
        "13. Why is handling missing data important in Pandas?\n",
        "    - Handling missing data in Pandas is important because unhandled gaps can lead to:\n",
        "       - Incorrect analysis → Many functions (mean, correlation, regression) fail or give wrong results if NaN values are present.\n",
        "       - Errors in models → Machine learning algorithms can't handle missing values directly.\n",
        "       - Data inconsistency → Missing entries can distort patterns, trends, and summaries.\n",
        "\n",
        "      By handling missing data (using methods like dropna(), fillna(), or interpolation), you ensure that your dataset is clean, reliable, and ready for accurate analysis or modeling.\n",
        "\n",
        "14. What are the benefits of using Plotly for data visualization?\n",
        "    - The main benefits of using Plotly for data visualization are:\n",
        "       - Interactivity → Plots are dynamic (zoom, pan, hover tooltips, click events) unlike static Matplotlib plots.\n",
        "       - Wide range of charts → Supports 2D, 3D, maps, animations, and advanced visuals (heatmaps, candlestick charts, choropleths).\n",
        "       - Web integration → Easily embed visualizations in dashboards, web apps (with Dash), and Jupyter notebooks.\n",
        "       - Ease of use → High-level functions with less code required for complex visuals.\n",
        "       - Beautiful design → Clean, modern, and customizable default styles.\n",
        "       - Cross-language support → Works in Python, R, Julia, and JavaScript.\n",
        "\n",
        "15. How does NumPy handle multidimensional arrays?\n",
        "    - NumPy handles multidimensional arrays using its ndarray (N-dimensional array) object.\n",
        "    - How it works:   \n",
        "       - A NumPy array can have any number of dimensions (1D, 2D, 3D, … nD).\n",
        "       - Each dimension is called an axis (axis 0 = rows, axis 1 = columns, axis 2 = depth, etc.).\n",
        "       - The array's shape defines its size in each dimension (e.g., (3, 4) = 3 rows * 4 columns).\n",
        "       - NumPy provides efficient operations (indexing, slicing, reshaping, broadcasting, matrix math) across multiple dimensions without explicit loops.  \n",
        "\n",
        "16. What is the role of Bokeh in data visualization?\n",
        "    - Bokeh is a Python library for interactive and web-ready data visualizations.\n",
        "    - Role:\n",
        "       - Creates interactive, zoomable, and dynamic plots.\n",
        "       - Outputs directly to web browsers (HTML, JavaScript).\n",
        "       - Ideal for dashboards and real-time streaming data.\n",
        "       - Handles large datasets efficiently.\n",
        "      \n",
        "17. Explain the difference between apply() and map() in Pandas.\n",
        "    - In Pandas, both apply() and map() are used for applying functions, but they differ in scope:\n",
        "    - map() → Works only on a Series. It applies a function element-wise to transform values.\n",
        "      \n",
        "      Example:\n",
        "            \n",
        "            s = pd.Series([1, 2, 3])\n",
        "            s.map(lambda x: x*2)   #[2, 4, 6]\n",
        "\n",
        "    - apply() → Works on both Series and DataFrames.\n",
        "      - On a Series → similar to map().\n",
        "      - On a DataFrame → can apply a function across rows or columns.\n",
        "\n",
        "      Example:\n",
        "            \n",
        "            df = pd.DataFrame({\"A\": [1, 2], \"B\": [3, 4]})\n",
        "            df.apply(sum, axis=0)   # sum of columns → A=3, B=7\n",
        "\n",
        "18. What are some advanced features of NumPy?\n",
        "    - Some advanced features of NumPy include:\n",
        "       - Broadcasting → Perform operations on arrays of different shapes without explicit loops.\n",
        "       - Vectorization → Fast, loop-free computations using array-wide operations.\n",
        "       - Linear Algebra → Functions for matrix multiplication, eigenvalues, determinants, etc. (numpy.linalg).\n",
        "       - Fourier Transforms → Signal processing with numpy.fft.\n",
        "       - Random Module → Random number generation, distributions, shuffling, sampling (numpy.random).\n",
        "       - Masked Arrays → Handle missing/invalid data gracefully.\n",
        "       - Memory Efficiency → Views, slicing, and strides allow working with large datasets without copying data.\n",
        "       - Integration → Works seamlessly with Pandas, SciPy, Matplotlib, and ML libraries.\n",
        "\n",
        "19. How does Pandas simplify time series analysis?\n",
        "    - Pandas simplifies time series analysis by providing built-in support for handling dates, times, and time-indexed data.     \n",
        "    - Key features:\n",
        "       - Datetime indexing → Easy conversion with pd.to_datetime() and direct indexing by dates.\n",
        "       - Resampling & frequency conversion → Aggregate or interpolate data (e.g., daily → monthly).\n",
        "       - Shifting & lagging → Compare data across time periods.\n",
        "       - Rolling & expanding windows → Moving averages, cumulative sums, etc.\n",
        "       - Built-in plotting & integration with Matplotlib for visual analysis.\n",
        "\n",
        "20. What is the role of a pivot table in Pandas?\n",
        "    - In Pandas, a pivot table is used to summarize and reorganize data for easier analysis.\n",
        "    - Role:\n",
        "       - Reshapes data into a table format with rows, columns, and aggregated values.\n",
        "       - Helps in grouping, aggregating, and comparing data across categories.\n",
        "       - Similar to Excel pivot tables but more powerful in Python.\n",
        "\n",
        "      Example:\n",
        "            \n",
        "            import pandas as pd\n",
        "            data = {'City': ['Delhi','Delhi','Mumbai','Mumbai'],\n",
        "                    'Category': ['A','B','A','B'],\n",
        "                    'Sales': [100,150,200,250]}\n",
        "            df = pd.DataFrame(data)\n",
        "\n",
        "            pivot = df.pivot_table(values='Sales', index='City', columns='Category', aggfunc='sum')\n",
        "            print(pivot)\n",
        "\n",
        "21. Why is NumPy's array slicing faster than Python's list slicing?\n",
        "    - NumPy's array slicing is faster than Python's list slicing because:\n",
        "       - Contiguous memory storage → NumPy arrays store elements in a single memory block, so slicing just creates a view (no data copying).\n",
        "       - Fixed data types → Arrays hold homogeneous data, making element access and slicing more efficient.\n",
        "       - C-level implementation → NumPy operations are optimized in C, while Python lists rely on slower object references.\n",
        "\n",
        "22. What are some common use cases for Seaborn?\n",
        "    - Some common use cases for Seaborn are:\n",
        "       - Exploratory Data Analysis (EDA) → Quickly understand patterns, trends, and distributions.\n",
        "       - Correlation analysis → Heatmaps to visualize relationships between variables.\n",
        "       - Distribution visualization → Histograms, KDE plots, boxplots, violin plots.\n",
        "       - Categorical data comparison → Bar plots, count plots, swarm plots.\n",
        "       - Pairwise relationships → pairplot() to study interactions between multiple variables.\n",
        "       - Regression analysis → lmplot() and regplot() for trend lines.\n",
        "       - Time series visualization → Line plots with built-in style and confidence intervals."
      ],
      "metadata": {
        "id": "YBp9IrFzalkp"
      }
    },
    {
      "cell_type": "markdown",
      "source": [
        "#Data Toolkit Practical Questions"
      ],
      "metadata": {
        "id": "xxUPOiZ8MUs-"
      }
    },
    {
      "cell_type": "markdown",
      "source": [
        "1. How do you create a 2D NumPy array and calculate the sum of each row?"
      ],
      "metadata": {
        "id": "VAqrm5FEMi7D"
      }
    },
    {
      "cell_type": "code",
      "source": [
        "import numpy as np\n",
        "\n",
        "# Create a 2D NumPy array\n",
        "array = np.array([[1, 2, 3], [4, 5, 6], [7, 8, 9]])\n",
        "\n",
        "# Calculate the sum of each row\n",
        "row_sums = array.sum(axis=1)\n",
        "\n",
        "print(\"Array:\")\n",
        "print(array)\n",
        "\n",
        "print(\"Sum of each row:\")\n",
        "print(row_sums)"
      ],
      "metadata": {
        "colab": {
          "base_uri": "https://localhost:8080/"
        },
        "id": "Dkf99sNUMuTs",
        "outputId": "38f513fb-9bea-49a7-8a1e-2c0885baab2f"
      },
      "execution_count": 1,
      "outputs": [
        {
          "output_type": "stream",
          "name": "stdout",
          "text": [
            "Array:\n",
            "[[1 2 3]\n",
            " [4 5 6]\n",
            " [7 8 9]]\n",
            "Sum of each row:\n",
            "[ 6 15 24]\n"
          ]
        }
      ]
    },
    {
      "cell_type": "markdown",
      "source": [
        "2. Write a Pandas script to find the mean of a specific column in a DataFrame."
      ],
      "metadata": {
        "id": "ybnH3fwKM4qq"
      }
    },
    {
      "cell_type": "code",
      "source": [
        "import pandas as pd\n",
        "\n",
        "# Sample DataFrame\n",
        "data = {\n",
        "    'Name': ['Alice', 'Bob', 'Charlie'],\n",
        "    'Age': [25, 30, 35],\n",
        "    'Salary': [50000, 60000, 70000]\n",
        "}\n",
        "\n",
        "df = pd.DataFrame(data)\n",
        "\n",
        "# Calculate mean of the 'Age' column\n",
        "mean_age = df['Age'].mean()\n",
        "\n",
        "print(\"Mean age:\", mean_age)"
      ],
      "metadata": {
        "colab": {
          "base_uri": "https://localhost:8080/"
        },
        "id": "AuGCz_8qM5-K",
        "outputId": "ea826e2d-102e-45ca-9b36-1bfc8a8a61a8"
      },
      "execution_count": 2,
      "outputs": [
        {
          "output_type": "stream",
          "name": "stdout",
          "text": [
            "Mean age: 30.0\n"
          ]
        }
      ]
    },
    {
      "cell_type": "markdown",
      "source": [
        "3. Create a scatter plot using Matplotlib."
      ],
      "metadata": {
        "id": "64IodOdfND1f"
      }
    },
    {
      "cell_type": "code",
      "source": [
        "import matplotlib.pyplot as plt\n",
        "\n",
        "# Sample data\n",
        "x = [1, 2, 3, 4, 5]\n",
        "y = [2, 4, 5, 4, 5]\n",
        "\n",
        "# Create a scatter plot\n",
        "\n",
        "plt.scatter(x, y)\n",
        "plt.xlabel('X-axis')\n",
        "plt.ylabel('Y-axis')\n",
        "plt.title('Scatter Plot')\n",
        "\n",
        "# Display the plot\n",
        "plt.show()"
      ],
      "metadata": {
        "colab": {
          "base_uri": "https://localhost:8080/",
          "height": 472
        },
        "id": "DrizNqmNNJm5",
        "outputId": "257143e3-c9c2-4257-a3b3-720e3b0fbbd7"
      },
      "execution_count": 3,
      "outputs": [
        {
          "output_type": "display_data",
          "data": {
            "text/plain": [
              "<Figure size 640x480 with 1 Axes>"
            ],
            "image/png": "[encoded data removed]"
          },
          "metadata": {}
        }
      ]
    },
    {
      "cell_type": "markdown",
      "source": [
        "4. How do you calculate the correlation matrix using Seaborn and visualize it with a heatmap?"
      ],
      "metadata": {
        "id": "g_cNpZY9NWeo"
      }
    },
    {
      "cell_type": "code",
      "source": [
        "import pandas as pd\n",
        "import seaborn as sns\n",
        "import matplotlib.pyplot as plt\n",
        "\n",
        "# Sample DataFrame\n",
        "data = {\n",
        "    'A': [1, 2, 3, 4, 5],\n",
        "    'B': [5, 4, 3, 2, 1],\n",
        "    'C': [2, 3, 4, 5, 6]\n",
        "}\n",
        "\n",
        "df = pd.DataFrame(data)\n",
        "\n",
        "# Calculate correlation matrix\n",
        "corr = df.corr()\n",
        "\n",
        "# Plot heatmap of correlation matrix\n",
        "sns.heatmap(corr, annot=True, cmap='coolwarm')\n",
        "\n",
        "plt.title('Correlation Matrix Heatmap')\n",
        "plt.show()"
      ],
      "metadata": {
        "colab": {
          "base_uri": "https://localhost:8080/",
          "height": 452
        },
        "id": "_X4cEJwyNdbn",
        "outputId": "2bee0b43-4b92-41a9-acf7-d7b6dbf4f64c"
      },
      "execution_count": 4,
      "outputs": [
        {
          "output_type": "display_data",
          "data": {
            "text/plain": [
              "<Figure size 640x480 with 2 Axes>"
            ],
            "image/png": "[encoded data removed]"
          },
          "metadata": {}
        }
      ]
    },
    {
      "cell_type": "markdown",
      "source": [
        "5. Generate a bar plot using Plotly."
      ],
      "metadata": {
        "id": "69wEqh5xNpde"
      }
    },
    {
      "cell_type": "code",
      "source": [
        "import plotly.graph_objects as go\n",
        "\n",
        "# Sample data\n",
        "categories = ['A', 'B', 'C', 'D']\n",
        "values = [10, 15, 8, 12]\n",
        "\n",
        "# Create a bar plot\n",
        "fig = go  .Figure(data=[go.Bar(x=categories, y=values)])\n",
        "\n",
        "fig.update_layout(title='Bar Plot', xaxis_title='Categories', yaxis_title='Values')\n",
        "\n",
        "# Show the plot\n",
        "fig.show()"
      ],
      "metadata": {
        "colab": {
          "base_uri": "https://localhost:8080/",
          "height": 542
        },
        "id": "Mz7vpaSzNt8d",
        "outputId": "97c2a7a0-ad78-4c3d-de39-adf5f8e54880"
      },
      "execution_count": 5,
      "outputs": [
        {
          "output_type": "display_data",
          "data": {
            "text/html": [
              "<html>\n",
              "<head><meta charset=\"utf-8\" /></head>\n",
              "<body>\n",
              "    <div>            <script src=\"https://cdnjs.cloudflare.com/ajax/libs/mathjax/2.7.5/MathJax.js?config=TeX-AMS-MML_SVG\"></script><script type=\"text/javascript\">if (window.MathJax && window.MathJax.Hub && window.MathJax.Hub.Config) {window.MathJax.Hub.Config({SVG: {font: \"STIX-Web\"}});}</script>                <script type=\"text/javascript\">window.PlotlyConfig = {MathJaxConfig: 'local'};</script>\n",
              "        <script charset=\"utf-8\" src=\"https://cdn.plot.ly/plotly-2.35.2.min.js\"></script>                <div id=\"73bf30fd-b187-4d5d-af31-c6fb95f2b9b0\" class=\"plotly-graph-div\" style=\"height:525px; width:100%;\"></div>            <script type=\"text/javascript\">                                    window.PLOTLYENV=window.PLOTLYENV || {};                                    if (document.getElementById(\"73bf30fd-b187-4d5d-af31-c6fb95f2b9b0\")) {                    Plotly.newPlot(                        \"73bf30fd-b187-4d5d-af31-c6fb95f2b9b0\",                        [{\"x\":[\"A\",\"B\",\"C\",\"D\"],\"y\":[10,15,8,12],\"type\":\"bar\"}],                        {\"template\":{\"data\":{\"histogram2dcontour\":[{\"type\":\"histogram2dcontour\",\"colorbar\":{\"outlinewidth\":0,\"ticks\":\"\"},\"colorscale\":[[0.0,\"#0d0887\"],[0.1111111111111111,\"#46039f\"],[0.2222222222222222,\"#7201a8\"],[0.3333333333333333,\"#9c179e\"],[0.4444444444444444,\"#bd3786\"],[0.5555555555555556,\"#d8576b\"],[0.6666666666666666,\"#ed7953\"],[0.7777777777777778,\"#fb9f3a\"],[0.8888888888888888,\"#fdca26\"],[1.0,\"#f0f921\"]]}],\"choropleth\":[{\"type\":\"choropleth\",\"colorbar\":{\"outlinewidth\":0,\"ticks\":\"\"}}],\"histogram2d\":[{\"type\":\"histogram2d\",\"colorbar\":{\"outlinewidth\":0,\"ticks\":\"\"},\"colorscale\":[[0.0,\"#0d0887\"],[0.1111111111111111,\"#46039f\"],[0.2222222222222222,\"#7201a8\"],[0.3333333333333333,\"#9c179e\"],[0.4444444444444444,\"#bd3786\"],[0.5555555555555556,\"#d8576b\"],[0.6666666666666666,\"#ed7953\"],[0.7777777777777778,\"#fb9f3a\"],[0.8888888888888888,\"#fdca26\"],[1.0,\"#f0f921\"]]}],\"heatmap\":[{\"type\":\"heatmap\",\"colorbar\":{\"outlinewidth\":0,\"ticks\":\"\"},\"colorscale\":[[0.0,\"#0d0887\"],[0.1111111111111111,\"#46039f\"],[0.2222222222222222,\"#7201a8\"],[0.3333333333333333,\"#9c179e\"],[0.4444444444444444,\"#bd3786\"],[0.5555555555555556,\"#d8576b\"],[0.6666666666666666,\"#ed7953\"],[0.7777777777777778,\"#fb9f3a\"],[0.8888888888888888,\"#fdca26\"],[1.0,\"#f0f921\"]]}],\"heatmapgl\":[{\"type\":\"heatmapgl\",\"colorbar\":{\"outlinewidth\":0,\"ticks\":\"\"},\"colorscale\":[[0.0,\"#0d0887\"],[0.1111111111111111,\"#46039f\"],[0.2222222222222222,\"#7201a8\"],[0.3333333333333333,\"#9c179e\"],[0.4444444444444444,\"#bd3786\"],[0.5555555555555556,\"#d8576b\"],[0.6666666666666666,\"#ed7953\"],[0.7777777777777778,\"#fb9f3a\"],[0.8888888888888888,\"#fdca26\"],[1.0,\"#f0f921\"]]}],\"contourcarpet\":[{\"type\":\"contourcarpet\",\"colorbar\":{\"outlinewidth\":0,\"ticks\":\"\"}}],\"contour\":[{\"type\":\"contour\",\"colorbar\":{\"outlinewidth\":0,\"ticks\":\"\"},\"colorscale\":[[0.0,\"#0d0887\"],[0.1111111111111111,\"#46039f\"],[0.2222222222222222,\"#7201a8\"],[0.3333333333333333,\"#9c179e\"],[0.4444444444444444,\"#bd3786\"],[0.5555555555555556,\"#d8576b\"],[0.6666666666666666,\"#ed7953\"],[0.7777777777777778,\"#fb9f3a\"],[0.8888888888888888,\"#fdca26\"],[1.0,\"#f0f921\"]]}],\"surface\":[{\"type\":\"surface\",\"colorbar\":{\"outlinewidth\":0,\"ticks\":\"\"},\"colorscale\":[[0.0,\"#0d0887\"],[0.1111111111111111,\"#46039f\"],[0.2222222222222222,\"#7201a8\"],[0.3333333333333333,\"#9c179e\"],[0.4444444444444444,\"#bd3786\"],[0.5555555555555556,\"#d8576b\"],[0.6666666666666666,\"#ed7953\"],[0.7777777777777778,\"#fb9f3a\"],[0.8888888888888888,\"#fdca26\"],[1.0,\"#f0f921\"]]}],\"mesh3d\":[{\"type\":\"mesh3d\",\"colorbar\":{\"outlinewidth\":0,\"ticks\":\"\"}}],\"scatter\":[{\"fillpattern\":{\"fillmode\":\"overlay\",\"size\":10,\"solidity\":0.2},\"type\":\"scatter\"}],\"parcoords\":[{\"type\":\"parcoords\",\"line\":{\"colorbar\":{\"outlinewidth\":0,\"ticks\":\"\"}}}],\"scatterpolargl\":[{\"type\":\"scatterpolargl\",\"marker\":{\"colorbar\":{\"outlinewidth\":0,\"ticks\":\"\"}}}],\"bar\":[{\"error_x\":{\"color\":\"#2a3f5f\"},\"error_y\":{\"color\":\"#2a3f5f\"},\"marker\":{\"line\":{\"color\":\"#E5ECF6\",\"width\":0.5},\"pattern\":{\"fillmode\":\"overlay\",\"size\":10,\"solidity\":0.2}},\"type\":\"bar\"}],\"scattergeo\":[{\"type\":\"scattergeo\",\"marker\":{\"colorbar\":{\"outlinewidth\":0,\"ticks\":\"\"}}}],\"scatterpolar\":[{\"type\":\"scatterpolar\",\"marker\":{\"colorbar\":{\"outlinewidth\":0,\"ticks\":\"\"}}}],\"histogram\":[{\"marker\":{\"pattern\":{\"fillmode\":\"overlay\",\"size\":10,\"solidity\":0.2}},\"type\":\"histogram\"}],\"scattergl\":[{\"type\":\"scattergl\",\"marker\":{\"colorbar\":{\"outlinewidth\":0,\"ticks\":\"\"}}}],\"scatter3d\":[{\"type\":\"scatter3d\",\"line\":{\"colorbar\":{\"outlinewidth\":0,\"ticks\":\"\"}},\"marker\":{\"colorbar\":{\"outlinewidth\":0,\"ticks\":\"\"}}}],\"scattermapbox\":[{\"type\":\"scattermapbox\",\"marker\":{\"colorbar\":{\"outlinewidth\":0,\"ticks\":\"\"}}}],\"scatterternary\":[{\"type\":\"scatterternary\",\"marker\":{\"colorbar\":{\"outlinewidth\":0,\"ticks\":\"\"}}}],\"scattercarpet\":[{\"type\":\"scattercarpet\",\"marker\":{\"colorbar\":{\"outlinewidth\":0,\"ticks\":\"\"}}}],\"carpet\":[{\"aaxis\":{\"endlinecolor\":\"#2a3f5f\",\"gridcolor\":\"white\",\"linecolor\":\"white\",\"minorgridcolor\":\"white\",\"startlinecolor\":\"#2a3f5f\"},\"baxis\":{\"endlinecolor\":\"#2a3f5f\",\"gridcolor\":\"white\",\"linecolor\":\"white\",\"minorgridcolor\":\"white\",\"startlinecolor\":\"#2a3f5f\"},\"type\":\"carpet\"}],\"table\":[{\"cells\":{\"fill\":{\"color\":\"#EBF0F8\"},\"line\":{\"color\":\"white\"}},\"header\":{\"fill\":{\"color\":\"#C8D4E3\"},\"line\":{\"color\":\"white\"}},\"type\":\"table\"}],\"barpolar\":[{\"marker\":{\"line\":{\"color\":\"#E5ECF6\",\"width\":0.5},\"pattern\":{\"fillmode\":\"overlay\",\"size\":10,\"solidity\":0.2}},\"type\":\"barpolar\"}],\"pie\":[{\"automargin\":true,\"type\":\"pie\"}]},\"layout\":{\"autotypenumbers\":\"strict\",\"colorway\":[\"#636efa\",\"#EF553B\",\"#00cc96\",\"#ab63fa\",\"#FFA15A\",\"#19d3f3\",\"#FF6692\",\"#B6E880\",\"#FF97FF\",\"#FECB52\"],\"font\":{\"color\":\"#2a3f5f\"},\"hovermode\":\"closest\",\"hoverlabel\":{\"align\":\"left\"},\"paper_bgcolor\":\"white\",\"plot_bgcolor\":\"#E5ECF6\",\"polar\":{\"bgcolor\":\"#E5ECF6\",\"angularaxis\":{\"gridcolor\":\"white\",\"linecolor\":\"white\",\"ticks\":\"\"},\"radialaxis\":{\"gridcolor\":\"white\",\"linecolor\":\"white\",\"ticks\":\"\"}},\"ternary\":{\"bgcolor\":\"#E5ECF6\",\"aaxis\":{\"gridcolor\":\"white\",\"linecolor\":\"white\",\"ticks\":\"\"},\"baxis\":{\"gridcolor\":\"white\",\"linecolor\":\"white\",\"ticks\":\"\"},\"caxis\":{\"gridcolor\":\"white\",\"linecolor\":\"white\",\"ticks\":\"\"}},\"coloraxis\":{\"colorbar\":{\"outlinewidth\":0,\"ticks\":\"\"}},\"colorscale\":{\"sequential\":[[0.0,\"#0d0887\"],[0.1111111111111111,\"#46039f\"],[0.2222222222222222,\"#7201a8\"],[0.3333333333333333,\"#9c179e\"],[0.4444444444444444,\"#bd3786\"],[0.5555555555555556,\"#d8576b\"],[0.6666666666666666,\"#ed7953\"],[0.7777777777777778,\"#fb9f3a\"],[0.8888888888888888,\"#fdca26\"],[1.0,\"#f0f921\"]],\"sequentialminus\":[[0.0,\"#0d0887\"],[0.1111111111111111,\"#46039f\"],[0.2222222222222222,\"#7201a8\"],[0.3333333333333333,\"#9c179e\"],[0.4444444444444444,\"#bd3786\"],[0.5555555555555556,\"#d8576b\"],[0.6666666666666666,\"#ed7953\"],[0.7777777777777778,\"#fb9f3a\"],[0.8888888888888888,\"#fdca26\"],[1.0,\"#f0f921\"]],\"diverging\":[[0,\"#8e0152\"],[0.1,\"#c51b7d\"],[0.2,\"#de77ae\"],[0.3,\"#f1b6da\"],[0.4,\"#fde0ef\"],[0.5,\"#f7f7f7\"],[0.6,\"#e6f5d0\"],[0.7,\"#b8e186\"],[0.8,\"#7fbc41\"],[0.9,\"#4d9221\"],[1,\"#276419\"]]},\"xaxis\":{\"gridcolor\":\"white\",\"linecolor\":\"white\",\"ticks\":\"\",\"title\":{\"standoff\":15},\"zerolinecolor\":\"white\",\"automargin\":true,\"zerolinewidth\":2},\"yaxis\":{\"gridcolor\":\"white\",\"linecolor\":\"white\",\"ticks\":\"\",\"title\":{\"standoff\":15},\"zerolinecolor\":\"white\",\"automargin\":true,\"zerolinewidth\":2},\"scene\":{\"xaxis\":{\"backgroundcolor\":\"#E5ECF6\",\"gridcolor\":\"white\",\"linecolor\":\"white\",\"showbackground\":true,\"ticks\":\"\",\"zerolinecolor\":\"white\",\"gridwidth\":2},\"yaxis\":{\"backgroundcolor\":\"#E5ECF6\",\"gridcolor\":\"white\",\"linecolor\":\"white\",\"showbackground\":true,\"ticks\":\"\",\"zerolinecolor\":\"white\",\"gridwidth\":2},\"zaxis\":{\"backgroundcolor\":\"#E5ECF6\",\"gridcolor\":\"white\",\"linecolor\":\"white\",\"showbackground\":true,\"ticks\":\"\",\"zerolinecolor\":\"white\",\"gridwidth\":2}},\"shapedefaults\":{\"line\":{\"color\":\"#2a3f5f\"}},\"annotationdefaults\":{\"arrowcolor\":\"#2a3f5f\",\"arrowhead\":0,\"arrowwidth\":1},\"geo\":{\"bgcolor\":\"white\",\"landcolor\":\"#E5ECF6\",\"subunitcolor\":\"white\",\"showland\":true,\"showlakes\":true,\"lakecolor\":\"white\"},\"title\":{\"x\":0.05},\"mapbox\":{\"style\":\"light\"}}},\"title\":{\"text\":\"Bar Plot\"},\"xaxis\":{\"title\":{\"text\":\"Categories\"}},\"yaxis\":{\"title\":{\"text\":\"Values\"}}},                        {\"responsive\": true}                    ).then(function(){\n",
              "                            \n",
              "var gd = document.getElementById('73bf30fd-b187-4d5d-af31-c6fb95f2b9b0');\n",
              "var x = new MutationObserver(function (mutations, observer) {{\n",
              "        var display = window.getComputedStyle(gd).display;\n",
              "        if (!display || display === 'none') {{\n",
              "            console.log([gd, 'removed!']);\n",
              "            Plotly.purge(gd);\n",
              "            observer.disconnect();\n",
              "        }}\n",
              "}});\n",
              "\n",
              "// Listen for the removal of the full notebook cells\n",
              "var notebookContainer = gd.closest('#notebook-container');\n",
              "if (notebookContainer) {{\n",
              "    x.observe(notebookContainer, {childList: true});\n",
              "}}\n",
              "\n",
              "// Listen for the clearing of the current output cell\n",
              "var outputEl = gd.closest('.output');\n",
              "if (outputEl) {{\n",
              "    x.observe(outputEl, {childList: true});\n",
              "}}\n",
              "\n",
              "                        })                };                            </script>        </div>\n",
              "</body>\n",
              "</html>"
            ]
          },
          "metadata": {}
        }
      ]
    },
    {
      "cell_type": "markdown",
      "source": [
        "6. Create a DataFrame and add a new column based on an existing column."
      ],
      "metadata": {
        "id": "3pLZwbsrO0V_"
      }
    },
    {
      "cell_type": "code",
      "source": [
        "import pandas as pd\n",
        "\n",
        "# Create a DataFrame with sales data\n",
        "data = {\n",
        "    'Product': ['A', 'B', 'C', 'D'],\n",
        "    'Revenue': [500, 800, 600, 1200],\n",
        "    'Cost': [300, 450, 350, 700]\n",
        "}\n",
        "\n",
        "df = pd.DataFrame(data)\n",
        "\n",
        "# Add a new column 'Profit' based on 'Revenue' and 'Cost'\n",
        "df['Profit'] = df['Revenue'] - df['Cost']\n",
        "\n",
        "print(df)"
      ],
      "metadata": {
        "colab": {
          "base_uri": "https://localhost:8080/"
        },
        "id": "WUER1R0JO4Oa",
        "outputId": "80b1eb43-c288-4caf-8ec2-b16c29787a12"
      },
      "execution_count": 6,
      "outputs": [
        {
          "output_type": "stream",
          "name": "stdout",
          "text": [
            "  Product  Revenue  Cost  Profit\n",
            "0       A      500   300     200\n",
            "1       B      800   450     350\n",
            "2       C      600   350     250\n",
            "3       D     1200   700     500\n"
          ]
        }
      ]
    },
    {
      "cell_type": "markdown",
      "source": [
        "7. Write a program to perform element-wise multiplication of two NumPy arrays."
      ],
      "metadata": {
        "id": "_qUu4dn0PO3E"
      }
    },
    {
      "cell_type": "code",
      "source": [
        "import numpy as np\n",
        "\n",
        "# Create two NumPy arrays\n",
        "array1 = np.array([1, 2, 3, 4])\n",
        "array2 = np.array([5, 6, 7, 8])\n",
        "\n",
        "# Perform element-wise multiplication\n",
        "result = array1 * array2\n",
        "\n",
        "print(\"Array 1:\", array1)\n",
        "print(\"Array 2:\", array2)\n",
        "print(\"Element-wise multiplication result:\", result)"
      ],
      "metadata": {
        "colab": {
          "base_uri": "https://localhost:8080/"
        },
        "id": "1LfItSTEPrMq",
        "outputId": "0eed35cd-ec6d-4f19-f877-3359a519432c"
      },
      "execution_count": 7,
      "outputs": [
        {
          "output_type": "stream",
          "name": "stdout",
          "text": [
            "Array 1: [1 2 3 4]\n",
            "Array 2: [5 6 7 8]\n",
            "Element-wise multiplication result: [ 5 12 21 32]\n"
          ]
        }
      ]
    },
    {
      "cell_type": "markdown",
      "source": [
        "8. Create a line plot with multiple lines using Matplotlib."
      ],
      "metadata": {
        "id": "oO_LzJIHQDug"
      }
    },
    {
      "cell_type": "code",
      "source": [
        "import matplotlib.pyplot as plt\n",
        "\n",
        "# Data for the line plot\n",
        "x = [1, 2, 3, 4, 5]\n",
        "y1 = [1, 4, 9, 16, 25]   # Line 1: y = x^2\n",
        "y2 = [1, 2, 3, 4, 5]      # Line 2: y = x\n",
        "\n",
        "# Create the plot\n",
        "plt.plot(x, y1, label='y = x^2', color='b', marker='o')  # First line (blue with circles)\n",
        "plt.plot(x, y2, label='y = x', color='r', marker='s')    # Second line (red with squares)\n",
        "\n",
        "# Add labels and title\n",
        "plt.xlabel('X-axis')\n",
        "plt.ylabel('Y-axis')\n",
        "plt.title('Multiple Lines on a Line Plot')\n",
        "\n",
        "# Show legend\n",
        "plt.legend()\n",
        "\n",
        "# Display the plot\n",
        "plt.show()"
      ],
      "metadata": {
        "colab": {
          "base_uri": "https://localhost:8080/",
          "height": 472
        },
        "id": "6FaBMDXxQGEb",
        "outputId": "ca771eaa-21d7-40d3-c29c-79f1f9ba5355"
      },
      "execution_count": 8,
      "outputs": [
        {
          "output_type": "display_data",
          "data": {
            "text/plain": [
              "<Figure size 640x480 with 1 Axes>"
            ],
            "image/png": "[encoded data removed]"
          },
          "metadata": {}
        }
      ]
    },
    {
      "cell_type": "markdown",
      "source": [
        "9. Generate a Pandas DataFrame and filter rows where a column value is greater than a threshold."
      ],
      "metadata": {
        "id": "Q4Wgn2MuQfjQ"
      }
    },
    {
      "cell_type": "code",
      "source": [
        "import pandas as pd\n",
        "\n",
        "# Create a DataFrame\n",
        "data = {\n",
        "    'Name': ['Alice', 'Bob', 'Charlie', 'David', 'Eva'],\n",
        "    'Age': [25, 30, 35, 40, 22],\n",
        "    'Salary': [50000, 60000, 75000, 80000, 45000]\n",
        "}\n",
        "\n",
        "df = pd.DataFrame(data)\n",
        "\n",
        "# Set a threshold for Salary\n",
        "threshold = 60000\n",
        "\n",
        "# Filter rows where Salary is greater than the threshold\n",
        "filtered_df = df[df['Salary'] > threshold]\n",
        "\n",
        "print(\"Filtered DataFrame:\")\n",
        "print(filtered_df)"
      ],
      "metadata": {
        "colab": {
          "base_uri": "https://localhost:8080/"
        },
        "id": "UFscdIOtQg5i",
        "outputId": "b7cbb33a-4e9e-487f-ddec-8e75af2fbe37"
      },
      "execution_count": 9,
      "outputs": [
        {
          "output_type": "stream",
          "name": "stdout",
          "text": [
            "Filtered DataFrame:\n",
            "      Name  Age  Salary\n",
            "2  Charlie   35   75000\n",
            "3    David   40   80000\n"
          ]
        }
      ]
    },
    {
      "cell_type": "markdown",
      "source": [
        "10. Create a histogram using Seaborn to visualize a distribution."
      ],
      "metadata": {
        "id": "eW0aDhvRRS0D"
      }
    },
    {
      "cell_type": "code",
      "source": [
        "import seaborn as sns\n",
        "import matplotlib.pyplot as plt\n",
        "\n",
        "# Sample data: Age distribution\n",
        "data = [22, 25, 29, 30, 35, 40, 42, 45, 50, 52, 55, 60, 65, 70, 72, 75, 80]\n",
        "\n",
        "# Create a Seaborn histogram\n",
        "sns.histplot(data, kde=True, bins=10, color='skyblue')\n",
        "\n",
        "# Add labels and title\n",
        "plt.xlabel('Age')\n",
        "plt.ylabel('Frequency')\n",
        "plt.title('Age Distribution Histogram')\n",
        "\n",
        "# Show the plot\n",
        "plt.show()"
      ],
      "metadata": {
        "colab": {
          "base_uri": "https://localhost:8080/",
          "height": 472
        },
        "id": "GAAZoXXNRX-Q",
        "outputId": "ca457ac3-2a09-48bb-bead-4bf66a883532"
      },
      "execution_count": 10,
      "outputs": [
        {
          "output_type": "display_data",
          "data": {
            "text/plain": [
              "<Figure size 640x480 with 1 Axes>"
            ],
            "image/png": "[encoded data removed]"
          },
          "metadata": {}
        }
      ]
    },
    {
      "cell_type": "markdown",
      "source": [
        "11. Perform matrix multiplication using NumPy."
      ],
      "metadata": {
        "id": "Uq3nq5ekRnEw"
      }
    },
    {
      "cell_type": "code",
      "source": [
        "import numpy as np\n",
        "\n",
        "# Define two matrices\n",
        "A = np.array([[1, 2], [3, 4]])\n",
        "B = np.array([[5, 6], [7, 8]])\n",
        "\n",
        "# Perform matrix multiplication\n",
        "result = np.dot(A, B)\n",
        "\n",
        "print(\"Matrix A:\")\n",
        "print(A)\n",
        "\n",
        "print(\"Matrix B:\")\n",
        "print(B)\n",
        "\n",
        "print(\"Matrix multiplication result:\")\n",
        "print(result)"
      ],
      "metadata": {
        "colab": {
          "base_uri": "https://localhost:8080/"
        },
        "id": "ggwtVlt-Rr0u",
        "outputId": "af64ad9f-91d6-477c-8249-3bac1c83922e"
      },
      "execution_count": 11,
      "outputs": [
        {
          "output_type": "stream",
          "name": "stdout",
          "text": [
            "Matrix A:\n",
            "[[1 2]\n",
            " [3 4]]\n",
            "Matrix B:\n",
            "[[5 6]\n",
            " [7 8]]\n",
            "Matrix multiplication result:\n",
            "[[19 22]\n",
            " [43 50]]\n"
          ]
        }
      ]
    },
    {
      "cell_type": "markdown",
      "source": [
        "12. Use Pandas to load a CSV file and display its first 5 rows."
      ],
      "metadata": {
        "id": "wCABPDAhR8ol"
      }
    },
    {
      "cell_type": "code",
      "source": [
        "from google.colab import files\n",
        "uploaded = files.upload()\n",
        "import pandas as pd\n",
        "\n",
        "yourfile = list(uploaded.keys())[0]\n",
        "df = pd.read_csv(yourfile)\n",
        "print(df.head())"
      ],
      "metadata": {
        "colab": {
          "base_uri": "https://localhost:8080/",
          "height": 177
        },
        "id": "Fo0-DvYsSBfj",
        "outputId": "e7fb4997-fb4c-4be1-f37e-7a17456fd1c5"
      },
      "execution_count": 14,
      "outputs": [
        {
          "output_type": "display_data",
          "data": {
            "text/plain": [
              "<IPython.core.display.HTML object>"
            ],
            "text/html": [
              "\n",
              "     <input type=\"file\" id=\"files-231bad80-609c-4f9a-8b6c-cbe45d3d0b41\" name=\"files[]\" multiple disabled\n",
              "        style=\"border:none\" />\n",
              "     <output id=\"result-231bad80-609c-4f9a-8b6c-cbe45d3d0b41\">\n",
              "      Upload widget is only available when the cell has been executed in the\n",
              "      current browser session. Please rerun this cell to enable.\n",
              "      </output>\n",
              "      <script>// Copyright 2017 Google LLC\n",
              "//\n",
              "// Licensed under the Apache License, Version 2.0 (the \"License\");\n",
              "// you may not use this file except in compliance with the License.\n",
              "// You may obtain a copy of the License at\n",
              "//\n",
              "//      http://www.apache.org/licenses/LICENSE-2.0\n",
              "//\n",
              "// Unless required by applicable law or agreed to in writing, software\n",
              "// distributed under the License is distributed on an \"AS IS\" BASIS,\n",
              "// WITHOUT WARRANTIES OR CONDITIONS OF ANY KIND, either express or implied.\n",
              "// See the License for the specific language governing permissions and\n",
              "// limitations under the License.\n",
              "\n",
              "/**\n",
              " * @fileoverview Helpers for google.colab Python module.\n",
              " */\n",
              "(function(scope) {\n",
              "function span(text, styleAttributes = {}) {\n",
              "  const element = document.createElement('span');\n",
              "  element.textContent = text;\n",
              "  for (const key of Object.keys(styleAttributes)) {\n",
              "    element.style[key] = styleAttributes[key];\n",
              "  }\n",
              "  return element;\n",
              "}\n",
              "\n",
              "// Max number of bytes which will be uploaded at a time.\n",
              "const MAX_PAYLOAD_SIZE = 100 * 1024;\n",
              "\n",
              "function _uploadFiles(inputId, outputId) {\n",
              "  const steps = uploadFilesStep(inputId, outputId);\n",
              "  const outputElement = document.getElementById(outputId);\n",
              "  // Cache steps on the outputElement to make it available for the next call\n",
              "  // to uploadFilesContinue from Python.\n",
              "  outputElement.steps = steps;\n",
              "\n",
              "  return _uploadFilesContinue(outputId);\n",
              "}\n",
              "\n",
              "// This is roughly an async generator (not supported in the browser yet),\n",
              "// where there are multiple asynchronous steps and the Python side is going\n",
              "// to poll for completion of each step.\n",
              "// This uses a Promise to block the python side on completion of each step,\n",
              "// then passes the result of the previous step as the input to the next step.\n",
              "function _uploadFilesContinue(outputId) {\n",
              "  const outputElement = document.getElementById(outputId);\n",
              "  const steps = outputElement.steps;\n",
              "\n",
              "  const next = steps.next(outputElement.lastPromiseValue);\n",
              "  return Promise.resolve(next.value.promise).then((value) => {\n",
              "    // Cache the last promise value to make it available to the next\n",
              "    // step of the generator.\n",
              "    outputElement.lastPromiseValue = value;\n",
              "    return next.value.response;\n",
              "  });\n",
              "}\n",
              "\n",
              "/**\n",
              " * Generator function which is called between each async step of the upload\n",
              " * process.\n",
              " * @param {string} inputId Element ID of the input file picker element.\n",
              " * @param {string} outputId Element ID of the output display.\n",
              " * @return {!Iterable<!Object>} Iterable of next steps.\n",
              " */\n",
              "function* uploadFilesStep(inputId, outputId) {\n",
              "  const inputElement = document.getElementById(inputId);\n",
              "  inputElement.disabled = false;\n",
              "\n",
              "  const outputElement = document.getElementById(outputId);\n",
              "  outputElement.innerHTML = '';\n",
              "\n",
              "  const pickedPromise = new Promise((resolve) => {\n",
              "    inputElement.addEventListener('change', (e) => {\n",
              "      resolve(e.target.files);\n",
              "    });\n",
              "  });\n",
              "\n",
              "  const cancel = document.createElement('button');\n",
              "  inputElement.parentElement.appendChild(cancel);\n",
              "  cancel.textContent = 'Cancel upload';\n",
              "  const cancelPromise = new Promise((resolve) => {\n",
              "    cancel.onclick = () => {\n",
              "      resolve(null);\n",
              "    };\n",
              "  });\n",
              "\n",
              "  // Wait for the user to pick the files.\n",
              "  const files = yield {\n",
              "    promise: Promise.race([pickedPromise, cancelPromise]),\n",
              "    response: {\n",
              "      action: 'starting',\n",
              "    }\n",
              "  };\n",
              "\n",
              "  cancel.remove();\n",
              "\n",
              "  // Disable the input element since further picks are not allowed.\n",
              "  inputElement.disabled = true;\n",
              "\n",
              "  if (!files) {\n",
              "    return {\n",
              "      response: {\n",
              "        action: 'complete',\n",
              "      }\n",
              "    };\n",
              "  }\n",
              "\n",
              "  for (const file of files) {\n",
              "    const li = document.createElement('li');\n",
              "    li.append(span(file.name, {fontWeight: 'bold'}));\n",
              "    li.append(span(\n",
              "        `(${file.type || 'n/a'}) - ${file.size} bytes, ` +\n",
              "        `last modified: ${\n",
              "            file.lastModifiedDate ? file.lastModifiedDate.toLocaleDateString() :\n",
              "                                    'n/a'} - `));\n",
              "    const percent = span('0% done');\n",
              "    li.appendChild(percent);\n",
              "\n",
              "    outputElement.appendChild(li);\n",
              "\n",
              "    const fileDataPromise = new Promise((resolve) => {\n",
              "      const reader = new FileReader();\n",
              "      reader.onload = (e) => {\n",
              "        resolve(e.target.result);\n",
              "      };\n",
              "      reader.readAsArrayBuffer(file);\n",
              "    });\n",
              "    // Wait for the data to be ready.\n",
              "    let fileData = yield {\n",
              "      promise: fileDataPromise,\n",
              "      response: {\n",
              "        action: 'continue',\n",
              "      }\n",
              "    };\n",
              "\n",
              "    // Use a chunked sending to avoid message size limits. See b/62115660.\n",
              "    let position = 0;\n",
              "    do {\n",
              "      const length = Math.min(fileData.byteLength - position, MAX_PAYLOAD_SIZE);\n",
              "      const chunk = new Uint8Array(fileData, position, length);\n",
              "      position += length;\n",
              "\n",
              "      const base64 = btoa(String.fromCharCode.apply(null, chunk));\n",
              "      yield {\n",
              "        response: {\n",
              "          action: 'append',\n",
              "          file: file.name,\n",
              "          data: base64,\n",
              "        },\n",
              "      };\n",
              "\n",
              "      let percentDone = fileData.byteLength === 0 ?\n",
              "          100 :\n",
              "          Math.round((position / fileData.byteLength) * 100);\n",
              "      percent.textContent = `${percentDone}% done`;\n",
              "\n",
              "    } while (position < fileData.byteLength);\n",
              "  }\n",
              "\n",
              "  // All done.\n",
              "  yield {\n",
              "    response: {\n",
              "      action: 'complete',\n",
              "    }\n",
              "  };\n",
              "}\n",
              "\n",
              "scope.google = scope.google || {};\n",
              "scope.google.colab = scope.google.colab || {};\n",
              "scope.google.colab._files = {\n",
              "  _uploadFiles,\n",
              "  _uploadFilesContinue,\n",
              "};\n",
              "})(self);\n",
              "</script> "
            ]
          },
          "metadata": {}
        },
        {
          "output_type": "stream",
          "name": "stdout",
          "text": [
            "Saving yourfile.csv to yourfile (1).csv\n",
            "      Name  Age       City\n",
            "0    Alice   25      Delhi\n",
            "1      Bob   30     Mumbai\n",
            "2  Charlie   35  Bangalore\n",
            "3    David   28    Chennai\n",
            "4      Eva   32    Kolkata\n"
          ]
        }
      ]
    },
    {
      "cell_type": "markdown",
      "source": [
        "13. Create a 3D scatter plot using Plotly."
      ],
      "metadata": {
        "id": "H2AmbQz5dYLT"
      }
    },
    {
      "cell_type": "code",
      "source": [
        "import plotly.express as px\n",
        "import pandas as pd\n",
        "import numpy as np\n",
        "\n",
        "# Generate random 3D data\n",
        "np.random.seed(42)  # For reproducibility\n",
        "\n",
        "n = 100  # Number of points\n",
        "\n",
        "# Create random 3D coordinates\n",
        "x = np.random.rand(n) * 100  # x coordinates\n",
        "y = np.random.rand(n) * 100  # y coordinates\n",
        "z = np.random.rand(n) * 100  # z coordinates\n",
        "\n",
        "# Assign random clusters (e.g., for visualizing different groups in the 3D space)\n",
        "clusters = np.random.choice(['Cluster A', 'Cluster B', 'Cluster C'], size=n)\n",
        "\n",
        "# Create a DataFrame\n",
        "df = pd.DataFrame({'x': x, 'y': y, 'z': z, 'Cluster': clusters})\n",
        "\n",
        "# Create the 3D scatter plot with color based on clusters\n",
        "fig = px.scatter_3d(df, x='x', y='y', z='z', color='Cluster', title=\"3D Scatter Plot with Clusters\")\n",
        "\n",
        "# Customize the layout\n",
        "fig.update_layout(\n",
        "    scene = dict(\n",
        "        xaxis_title='X Axis',\n",
        "        yaxis_title='Y Axis',\n",
        "        zaxis_title='Z Axis'\n",
        "    ),\n",
        "    margin=dict(r=0, l=0, b=0, t=40)\n",
        ")\n",
        "\n",
        "# Show the plot\n",
        "fig.show()"
      ],
      "metadata": {
        "colab": {
          "base_uri": "https://localhost:8080/",
          "height": 542
        },
        "id": "PJ0RhLpkdcsf",
        "outputId": "d83562b2-9227-4edf-f254-238e438e364c"
      },
      "execution_count": 15,
      "outputs": [
        {
          "output_type": "display_data",
          "data": {
            "text/html": [
              "<html>\n",
              "<head><meta charset=\"utf-8\" /></head>\n",
              "<body>\n",
              "    <div>            <script src=\"https://cdnjs.cloudflare.com/ajax/libs/mathjax/2.7.5/MathJax.js?config=TeX-AMS-MML_SVG\"></script><script type=\"text/javascript\">if (window.MathJax && window.MathJax.Hub && window.MathJax.Hub.Config) {window.MathJax.Hub.Config({SVG: {font: \"STIX-Web\"}});}</script>                <script type=\"text/javascript\">window.PlotlyConfig = {MathJaxConfig: 'local'};</script>\n",
              "        <script charset=\"utf-8\" src=\"https://cdn.plot.ly/plotly-2.35.2.min.js\"></script>                <div id=\"8d4c16d8-fd31-4cef-b55e-3ba05aba56cd\" class=\"plotly-graph-div\" style=\"height:525px; width:100%;\"></div>            <script type=\"text/javascript\">                                    window.PLOTLYENV=window.PLOTLYENV || {};                                    if (document.getElementById(\"8d4c16d8-fd31-4cef-b55e-3ba05aba56cd\")) {                    Plotly.newPlot(                        \"8d4c16d8-fd31-4cef-b55e-3ba05aba56cd\",                        [{\"hovertemplate\":\"Cluster=Cluster A\\u003cbr\\u003ex=%{x}\\u003cbr\\u003ey=%{y}\\u003cbr\\u003ez=%{z}\\u003cextra\\u003e\\u003c\\u002fextra\\u003e\",\"legendgroup\":\"Cluster A\",\"marker\":{\"color\":\"#636efa\",\"symbol\":\"circle\"},\"mode\":\"markers\",\"name\":\"Cluster A\",\"scene\":\"scene\",\"showlegend\":true,\"x\":[37.454011884736246,15.599452033620265,2.0584494295802447,30.42422429595377,43.194501864211574,29.214464853521815,36.63618432936917,45.606998421703594,51.42344384136116,6.505159298527952,94.88855372533332,96.56320330745594,80.83973481164611,30.46137691733707,44.01524937396013,49.51769101112702,31.171107608941096,54.67102793432797,18.485445552552704,77.51328233611146,89.48273504276489,19.59828624191452,38.8677289689482,82.87375091519293,54.26960831582485,77.22447692966574,7.4044651734090365,35.84657285442726,11.586905952512971,33.08980248526492,72.96061783380641,63.75574713552131,88.72127425763266,71.3244787222995,56.127719756949624,77.0967179954561,42.75410183585496,2.541912674409519],\"y\":[3.142918568673425,24.929222914887493,28.9751452913768,80.36720768991145,89.25589984899777,31.800347497186387,11.005192452767677,22.793516254194166,86.07305832563435,11.98653673336828,33.7615171403628,94.29097039125192,32.320293202075526,51.87906217433661,97.17820827209607,25.178229582536417,60.956433397989684,5.147875124998935,27.864646423661142,23.95618906669724,48.9452760277563,76.16196153287176,36.77831327192532,63.35297107608947,83.5302495589238,67.75643618422824,38.67353463005374,93.67299887367345,13.752094414599325,92.46936182785628,81.72222002012158,55.52008115994623,52.965057835600646,89.72157579533267,63.31014572732679,33.90297910487007,89.71102599525771,88.70864242651173],\"z\":[64.20316461542878,0.9197051616629648,54.87337893665861,32.539969815926774,64.96328990472146,9.367476782809248,36.77158030594335,26.520236768172545,39.30977246667604,57.69038846263591,49.25176938188639,19.52429877980445,72.24521152615053,28.07723624408558,17.711067940704893,95.39285770025873,42.81841483173143,96.36199770892529,85.300945546736,38.50977286019253,31.692200515627768,69.6029796674973,61.500722669916975,14.008401523652402,74.07686177542044,80.93611554785136,64.99639307777652,70.19668772577033,79.57926694361011,37.5582952639944,46.55980181324602,54.26446347075766,28.65412521282844,3.7348188749214417,36.019064141126286,12.706051265188478,21.582102749684317,62.28904758190003],\"type\":\"scatter3d\"},{\"hovertemplate\":\"Cluster=Cluster B\\u003cbr\\u003ex=%{x}\\u003cbr\\u003ey=%{y}\\u003cbr\\u003ez=%{z}\\u003cextra\\u003e\\u003c\\u002fextra\\u003e\",\"legendgroup\":\"Cluster B\",\"marker\":{\"color\":\"#EF553B\",\"symbol\":\"circle\"},\"mode\":\"markers\",\"name\":\"Cluster B\",\"scene\":\"scene\",\"showlegend\":true,\"x\":[95.07143064099162,5.8083612168199465,86.61761457749351,60.11150117432088,21.233911067827616,18.34045098534338,52.475643163223786,29.122914019804192,78.51759613930136,19.967378215835975,4.645041271999773,60.75448519014384,17.052412368729154,12.203823484477883,25.87799816000169,52.00680211778108,96.95846277645586,59.78999788110851,92.18742350231169,8.84925020519195,4.522728891053807,32.53303307632643,35.67533266935893,28.093450968738075,80.21969807540397,7.455064367977082,98.68869366005173,19.87156815341724,81.54614284548342,70.68573438476172,77.12703466859458,62.329812682755794,31.09823217156622,49.379559636439076],\"y\":[63.64104112637804,41.038292303562976,75.55511385430486,22.879816549162246,80.8120379564417,87.14605901877177,18.657005888603585,53.93422419156507,42.71077886262563,81.80147659224932,51.07473025775657,41.7411003148779,22.210781047073024,96.24472949421113,28.484049437746762,50.26790232288615,90.82658859666537,98.56504541106007,24.20552715115004,67.21355474058785,23.763754399239968,72.82163486118596,53.57746840747585,9.02897700544083,18.651851039985424,4.077514155476392,59.08929431882418,1.6587828927856152,22.649577519793795,64.51727904094498,69.09377381024659,11.347352124058908,25.79416277151556,34.92095746126609],\"z\":[8.413996499504883,10.147154286603211,66.35017691080559,0.5061583846218687,22.42693094605598,23.724908749680008,74.64914051180241,84.9223410494178,24.398964337908357,97.30105547524455,63.11386259972629,79.48113035416485,50.26370931051921,94.04585843529144,1.5456616528867428,96.66548190436696,29.444889206958567,16.94927466860925,55.68012624583501,93.6154774160781,57.0061170089365,9.717649377076853,51.832965236373674,87.73730719279554,70.24840839871092,35.94911512197552,29.359184426449335,81.01133946791808,91.32405525564712,51.13423988609378,79.82951789667752,33.79951568515358,57.8280140996174,52.224326005480435],\"type\":\"scatter3d\"},{\"hovertemplate\":\"Cluster=Cluster C\\u003cbr\\u003ex=%{x}\\u003cbr\\u003ey=%{y}\\u003cbr\\u003ez=%{z}\\u003cextra\\u003e\\u003c\\u002fextra\\u003e\",\"legendgroup\":\"Cluster C\",\"marker\":{\"color\":\"#00cc96\",\"symbol\":\"circle\"},\"mode\":\"markers\",\"name\":\"Cluster C\",\"scene\":\"scene\",\"showlegend\":true,\"x\":[73.1993941811405,59.86584841970366,15.601864044243651,70.80725777960456,96.99098521619943,83.24426408004217,18.182496720710063,61.18528947223795,13.949386065204184,59.24145688620425,9.767211400638388,68.42330265121569,3.4388521115218396,90.9320402078782,66.2522284353982,93.9498941564189,27.134903177389592,14.092422497476264,0.5522117123602399,72.90071680409874,86.31034258755935,6.355835028602364,32.518332202674706,47.22149251619493,11.959424593830171,76.07850486168974,52.27328293819941,10.789142699330444],\"y\":[31.435598107632668,50.85706911647028,90.7566473926093,7.697990982879299,16.122128725400444,92.96976523425731,63.34037565104234,80.74401551640625,89.60912999234932,0.6952130531190703,70.30189588951778,36.3629602379294,49.72485058923854,30.087830981676966,3.6886947354532795,14.48948720912231,63.23058305935795,32.07800649717358,51.2093058299281,17.436642900499145,34.10663510502585,87.7339353380981,65.99840460341791,24.18522909004517,9.310276780589922,90.04180571633304,72.59556788702393,77.98755458576238],\"z\":[16.162871409461378,89.85541885270793,60.642905965958995,16.080805141749867,69.18951976926932,65.19612595026005,71.2179221347536,65.76128923003434,56.830860333547164,89.20465551771133,2.431596643145384,64.54722959071678,91.48643902204485,37.01587002554444,92.83185625877253,85.11366715168569,99.00538501042632,69.7015740995268,86.70723185801037,50.15162946871996,89.00053418175663,9.3981939840869,3.5942273796742086,59.08332605690107,3.050024993904943,82.26005606596583,76.99935530986109,8.5347464993768],\"type\":\"scatter3d\"}],                        {\"template\":{\"data\":{\"histogram2dcontour\":[{\"type\":\"histogram2dcontour\",\"colorbar\":{\"outlinewidth\":0,\"ticks\":\"\"},\"colorscale\":[[0.0,\"#0d0887\"],[0.1111111111111111,\"#46039f\"],[0.2222222222222222,\"#7201a8\"],[0.3333333333333333,\"#9c179e\"],[0.4444444444444444,\"#bd3786\"],[0.5555555555555556,\"#d8576b\"],[0.6666666666666666,\"#ed7953\"],[0.7777777777777778,\"#fb9f3a\"],[0.8888888888888888,\"#fdca26\"],[1.0,\"#f0f921\"]]}],\"choropleth\":[{\"type\":\"choropleth\",\"colorbar\":{\"outlinewidth\":0,\"ticks\":\"\"}}],\"histogram2d\":[{\"type\":\"histogram2d\",\"colorbar\":{\"outlinewidth\":0,\"ticks\":\"\"},\"colorscale\":[[0.0,\"#0d0887\"],[0.1111111111111111,\"#46039f\"],[0.2222222222222222,\"#7201a8\"],[0.3333333333333333,\"#9c179e\"],[0.4444444444444444,\"#bd3786\"],[0.5555555555555556,\"#d8576b\"],[0.6666666666666666,\"#ed7953\"],[0.7777777777777778,\"#fb9f3a\"],[0.8888888888888888,\"#fdca26\"],[1.0,\"#f0f921\"]]}],\"heatmap\":[{\"type\":\"heatmap\",\"colorbar\":{\"outlinewidth\":0,\"ticks\":\"\"},\"colorscale\":[[0.0,\"#0d0887\"],[0.1111111111111111,\"#46039f\"],[0.2222222222222222,\"#7201a8\"],[0.3333333333333333,\"#9c179e\"],[0.4444444444444444,\"#bd3786\"],[0.5555555555555556,\"#d8576b\"],[0.6666666666666666,\"#ed7953\"],[0.7777777777777778,\"#fb9f3a\"],[0.8888888888888888,\"#fdca26\"],[1.0,\"#f0f921\"]]}],\"heatmapgl\":[{\"type\":\"heatmapgl\",\"colorbar\":{\"outlinewidth\":0,\"ticks\":\"\"},\"colorscale\":[[0.0,\"#0d0887\"],[0.1111111111111111,\"#46039f\"],[0.2222222222222222,\"#7201a8\"],[0.3333333333333333,\"#9c179e\"],[0.4444444444444444,\"#bd3786\"],[0.5555555555555556,\"#d8576b\"],[0.6666666666666666,\"#ed7953\"],[0.7777777777777778,\"#fb9f3a\"],[0.8888888888888888,\"#fdca26\"],[1.0,\"#f0f921\"]]}],\"contourcarpet\":[{\"type\":\"contourcarpet\",\"colorbar\":{\"outlinewidth\":0,\"ticks\":\"\"}}],\"contour\":[{\"type\":\"contour\",\"colorbar\":{\"outlinewidth\":0,\"ticks\":\"\"},\"colorscale\":[[0.0,\"#0d0887\"],[0.1111111111111111,\"#46039f\"],[0.2222222222222222,\"#7201a8\"],[0.3333333333333333,\"#9c179e\"],[0.4444444444444444,\"#bd3786\"],[0.5555555555555556,\"#d8576b\"],[0.6666666666666666,\"#ed7953\"],[0.7777777777777778,\"#fb9f3a\"],[0.8888888888888888,\"#fdca26\"],[1.0,\"#f0f921\"]]}],\"surface\":[{\"type\":\"surface\",\"colorbar\":{\"outlinewidth\":0,\"ticks\":\"\"},\"colorscale\":[[0.0,\"#0d0887\"],[0.1111111111111111,\"#46039f\"],[0.2222222222222222,\"#7201a8\"],[0.3333333333333333,\"#9c179e\"],[0.4444444444444444,\"#bd3786\"],[0.5555555555555556,\"#d8576b\"],[0.6666666666666666,\"#ed7953\"],[0.7777777777777778,\"#fb9f3a\"],[0.8888888888888888,\"#fdca26\"],[1.0,\"#f0f921\"]]}],\"mesh3d\":[{\"type\":\"mesh3d\",\"colorbar\":{\"outlinewidth\":0,\"ticks\":\"\"}}],\"scatter\":[{\"fillpattern\":{\"fillmode\":\"overlay\",\"size\":10,\"solidity\":0.2},\"type\":\"scatter\"}],\"parcoords\":[{\"type\":\"parcoords\",\"line\":{\"colorbar\":{\"outlinewidth\":0,\"ticks\":\"\"}}}],\"scatterpolargl\":[{\"type\":\"scatterpolargl\",\"marker\":{\"colorbar\":{\"outlinewidth\":0,\"ticks\":\"\"}}}],\"bar\":[{\"error_x\":{\"color\":\"#2a3f5f\"},\"error_y\":{\"color\":\"#2a3f5f\"},\"marker\":{\"line\":{\"color\":\"#E5ECF6\",\"width\":0.5},\"pattern\":{\"fillmode\":\"overlay\",\"size\":10,\"solidity\":0.2}},\"type\":\"bar\"}],\"scattergeo\":[{\"type\":\"scattergeo\",\"marker\":{\"colorbar\":{\"outlinewidth\":0,\"ticks\":\"\"}}}],\"scatterpolar\":[{\"type\":\"scatterpolar\",\"marker\":{\"colorbar\":{\"outlinewidth\":0,\"ticks\":\"\"}}}],\"histogram\":[{\"marker\":{\"pattern\":{\"fillmode\":\"overlay\",\"size\":10,\"solidity\":0.2}},\"type\":\"histogram\"}],\"scattergl\":[{\"type\":\"scattergl\",\"marker\":{\"colorbar\":{\"outlinewidth\":0,\"ticks\":\"\"}}}],\"scatter3d\":[{\"type\":\"scatter3d\",\"line\":{\"colorbar\":{\"outlinewidth\":0,\"ticks\":\"\"}},\"marker\":{\"colorbar\":{\"outlinewidth\":0,\"ticks\":\"\"}}}],\"scattermapbox\":[{\"type\":\"scattermapbox\",\"marker\":{\"colorbar\":{\"outlinewidth\":0,\"ticks\":\"\"}}}],\"scatterternary\":[{\"type\":\"scatterternary\",\"marker\":{\"colorbar\":{\"outlinewidth\":0,\"ticks\":\"\"}}}],\"scattercarpet\":[{\"type\":\"scattercarpet\",\"marker\":{\"colorbar\":{\"outlinewidth\":0,\"ticks\":\"\"}}}],\"carpet\":[{\"aaxis\":{\"endlinecolor\":\"#2a3f5f\",\"gridcolor\":\"white\",\"linecolor\":\"white\",\"minorgridcolor\":\"white\",\"startlinecolor\":\"#2a3f5f\"},\"baxis\":{\"endlinecolor\":\"#2a3f5f\",\"gridcolor\":\"white\",\"linecolor\":\"white\",\"minorgridcolor\":\"white\",\"startlinecolor\":\"#2a3f5f\"},\"type\":\"carpet\"}],\"table\":[{\"cells\":{\"fill\":{\"color\":\"#EBF0F8\"},\"line\":{\"color\":\"white\"}},\"header\":{\"fill\":{\"color\":\"#C8D4E3\"},\"line\":{\"color\":\"white\"}},\"type\":\"table\"}],\"barpolar\":[{\"marker\":{\"line\":{\"color\":\"#E5ECF6\",\"width\":0.5},\"pattern\":{\"fillmode\":\"overlay\",\"size\":10,\"solidity\":0.2}},\"type\":\"barpolar\"}],\"pie\":[{\"automargin\":true,\"type\":\"pie\"}]},\"layout\":{\"autotypenumbers\":\"strict\",\"colorway\":[\"#636efa\",\"#EF553B\",\"#00cc96\",\"#ab63fa\",\"#FFA15A\",\"#19d3f3\",\"#FF6692\",\"#B6E880\",\"#FF97FF\",\"#FECB52\"],\"font\":{\"color\":\"#2a3f5f\"},\"hovermode\":\"closest\",\"hoverlabel\":{\"align\":\"left\"},\"paper_bgcolor\":\"white\",\"plot_bgcolor\":\"#E5ECF6\",\"polar\":{\"bgcolor\":\"#E5ECF6\",\"angularaxis\":{\"gridcolor\":\"white\",\"linecolor\":\"white\",\"ticks\":\"\"},\"radialaxis\":{\"gridcolor\":\"white\",\"linecolor\":\"white\",\"ticks\":\"\"}},\"ternary\":{\"bgcolor\":\"#E5ECF6\",\"aaxis\":{\"gridcolor\":\"white\",\"linecolor\":\"white\",\"ticks\":\"\"},\"baxis\":{\"gridcolor\":\"white\",\"linecolor\":\"white\",\"ticks\":\"\"},\"caxis\":{\"gridcolor\":\"white\",\"linecolor\":\"white\",\"ticks\":\"\"}},\"coloraxis\":{\"colorbar\":{\"outlinewidth\":0,\"ticks\":\"\"}},\"colorscale\":{\"sequential\":[[0.0,\"#0d0887\"],[0.1111111111111111,\"#46039f\"],[0.2222222222222222,\"#7201a8\"],[0.3333333333333333,\"#9c179e\"],[0.4444444444444444,\"#bd3786\"],[0.5555555555555556,\"#d8576b\"],[0.6666666666666666,\"#ed7953\"],[0.7777777777777778,\"#fb9f3a\"],[0.8888888888888888,\"#fdca26\"],[1.0,\"#f0f921\"]],\"sequentialminus\":[[0.0,\"#0d0887\"],[0.1111111111111111,\"#46039f\"],[0.2222222222222222,\"#7201a8\"],[0.3333333333333333,\"#9c179e\"],[0.4444444444444444,\"#bd3786\"],[0.5555555555555556,\"#d8576b\"],[0.6666666666666666,\"#ed7953\"],[0.7777777777777778,\"#fb9f3a\"],[0.8888888888888888,\"#fdca26\"],[1.0,\"#f0f921\"]],\"diverging\":[[0,\"#8e0152\"],[0.1,\"#c51b7d\"],[0.2,\"#de77ae\"],[0.3,\"#f1b6da\"],[0.4,\"#fde0ef\"],[0.5,\"#f7f7f7\"],[0.6,\"#e6f5d0\"],[0.7,\"#b8e186\"],[0.8,\"#7fbc41\"],[0.9,\"#4d9221\"],[1,\"#276419\"]]},\"xaxis\":{\"gridcolor\":\"white\",\"linecolor\":\"white\",\"ticks\":\"\",\"title\":{\"standoff\":15},\"zerolinecolor\":\"white\",\"automargin\":true,\"zerolinewidth\":2},\"yaxis\":{\"gridcolor\":\"white\",\"linecolor\":\"white\",\"ticks\":\"\",\"title\":{\"standoff\":15},\"zerolinecolor\":\"white\",\"automargin\":true,\"zerolinewidth\":2},\"scene\":{\"xaxis\":{\"backgroundcolor\":\"#E5ECF6\",\"gridcolor\":\"white\",\"linecolor\":\"white\",\"showbackground\":true,\"ticks\":\"\",\"zerolinecolor\":\"white\",\"gridwidth\":2},\"yaxis\":{\"backgroundcolor\":\"#E5ECF6\",\"gridcolor\":\"white\",\"linecolor\":\"white\",\"showbackground\":true,\"ticks\":\"\",\"zerolinecolor\":\"white\",\"gridwidth\":2},\"zaxis\":{\"backgroundcolor\":\"#E5ECF6\",\"gridcolor\":\"white\",\"linecolor\":\"white\",\"showbackground\":true,\"ticks\":\"\",\"zerolinecolor\":\"white\",\"gridwidth\":2}},\"shapedefaults\":{\"line\":{\"color\":\"#2a3f5f\"}},\"annotationdefaults\":{\"arrowcolor\":\"#2a3f5f\",\"arrowhead\":0,\"arrowwidth\":1},\"geo\":{\"bgcolor\":\"white\",\"landcolor\":\"#E5ECF6\",\"subunitcolor\":\"white\",\"showland\":true,\"showlakes\":true,\"lakecolor\":\"white\"},\"title\":{\"x\":0.05},\"mapbox\":{\"style\":\"light\"}}},\"scene\":{\"domain\":{\"x\":[0.0,1.0],\"y\":[0.0,1.0]},\"xaxis\":{\"title\":{\"text\":\"X Axis\"}},\"yaxis\":{\"title\":{\"text\":\"Y Axis\"}},\"zaxis\":{\"title\":{\"text\":\"Z Axis\"}}},\"legend\":{\"title\":{\"text\":\"Cluster\"},\"tracegroupgap\":0},\"title\":{\"text\":\"3D Scatter Plot with Clusters\"},\"margin\":{\"r\":0,\"l\":0,\"b\":0,\"t\":40}},                        {\"responsive\": true}                    ).then(function(){\n",
              "                            \n",
              "var gd = document.getElementById('8d4c16d8-fd31-4cef-b55e-3ba05aba56cd');\n",
              "var x = new MutationObserver(function (mutations, observer) {{\n",
              "        var display = window.getComputedStyle(gd).display;\n",
              "        if (!display || display === 'none') {{\n",
              "            console.log([gd, 'removed!']);\n",
              "            Plotly.purge(gd);\n",
              "            observer.disconnect();\n",
              "        }}\n",
              "}});\n",
              "\n",
              "// Listen for the removal of the full notebook cells\n",
              "var notebookContainer = gd.closest('#notebook-container');\n",
              "if (notebookContainer) {{\n",
              "    x.observe(notebookContainer, {childList: true});\n",
              "}}\n",
              "\n",
              "// Listen for the clearing of the current output cell\n",
              "var outputEl = gd.closest('.output');\n",
              "if (outputEl) {{\n",
              "    x.observe(outputEl, {childList: true});\n",
              "}}\n",
              "\n",
              "                        })                };                            </script>        </div>\n",
              "</body>\n",
              "</html>"
            ]
          },
          "metadata": {}
        }
      ]
    },
    {
      "cell_type": "code",
      "source": [],
      "metadata": {
        "id": "XQq3ZNLjdiCB"
      },
      "execution_count": null,
      "outputs": []
    }
  ]
}